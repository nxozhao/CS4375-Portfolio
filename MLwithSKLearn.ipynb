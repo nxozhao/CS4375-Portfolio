{
  "nbformat": 4,
  "nbformat_minor": 0,
  "metadata": {
    "colab": {
      "provenance": [],
      "collapsed_sections": []
    },
    "kernelspec": {
      "name": "python3",
      "display_name": "Python 3"
    },
    "language_info": {
      "name": "python"
    }
  },
  "cells": [
    {
      "cell_type": "markdown",
      "source": [
        "<h1><center>\n",
        "Portfolio Component: Kernel and Ensemble Methods\n",
        "<h2>Neo Zhao</h2>\n",
        "<h3>CS 4375 - Introduction to Machine Learning</h3>\n",
        "</center><h1>"
      ],
      "metadata": {
        "id": "x1TjfbbaCuhM"
      }
    },
    {
      "cell_type": "markdown",
      "source": [
        "# **1) Read the Auto Data**"
      ],
      "metadata": {
        "id": "4ivq4cfkaTlZ"
      }
    },
    {
      "cell_type": "code",
      "execution_count": 27,
      "metadata": {
        "colab": {
          "base_uri": "https://localhost:8080/",
          "height": 0
        },
        "id": "eEfUZVWTT8ez",
        "outputId": "16ebab26-651d-4dcd-d128-6eba30cceb78"
      },
      "outputs": [
        {
          "output_type": "execute_result",
          "data": {
            "text/plain": [
              "(392, 9)"
            ]
          },
          "metadata": {},
          "execution_count": 27
        }
      ],
      "source": [
        "import pandas as pd\n",
        "import seaborn as sb\n",
        "\n",
        "# 1.a. \n",
        "autoData = pd.read_csv('Auto.csv', sep = ',')\n",
        "\n",
        "# 1.b. \n",
        "autoData.head()\n",
        "\n",
        "# 1.c. \n",
        "autoData.shape"
      ]
    },
    {
      "cell_type": "markdown",
      "source": [
        "# **2) Data Exploration**"
      ],
      "metadata": {
        "id": "YpZ-SDefbfZE"
      }
    },
    {
      "cell_type": "code",
      "source": [
        "# 2.a.\n",
        "autoData.describe()"
      ],
      "metadata": {
        "colab": {
          "base_uri": "https://localhost:8080/",
          "height": 300
        },
        "id": "SstlfwVIUfdw",
        "outputId": "d3e9761b-e257-4863-b97e-843c2897595e"
      },
      "execution_count": 28,
      "outputs": [
        {
          "output_type": "execute_result",
          "data": {
            "text/plain": [
              "              mpg   cylinders  displacement  horsepower       weight  \\\n",
              "count  392.000000  392.000000    392.000000  392.000000   392.000000   \n",
              "mean    23.445918    5.471939    194.411990  104.469388  2977.584184   \n",
              "std      7.805007    1.705783    104.644004   38.491160   849.402560   \n",
              "min      9.000000    3.000000     68.000000   46.000000  1613.000000   \n",
              "25%     17.000000    4.000000    105.000000   75.000000  2225.250000   \n",
              "50%     22.750000    4.000000    151.000000   93.500000  2803.500000   \n",
              "75%     29.000000    8.000000    275.750000  126.000000  3614.750000   \n",
              "max     46.600000    8.000000    455.000000  230.000000  5140.000000   \n",
              "\n",
              "       acceleration        year      origin  \n",
              "count    391.000000  390.000000  392.000000  \n",
              "mean      15.554220   76.010256    1.576531  \n",
              "std        2.750548    3.668093    0.805518  \n",
              "min        8.000000   70.000000    1.000000  \n",
              "25%       13.800000   73.000000    1.000000  \n",
              "50%       15.500000   76.000000    1.000000  \n",
              "75%       17.050000   79.000000    2.000000  \n",
              "max       24.800000   82.000000    3.000000  "
            ],
            "text/html": [
              "\n",
              "  <div id=\"df-478c1c8f-fe2a-4819-a133-78607eea73b9\">\n",
              "    <div class=\"colab-df-container\">\n",
              "      <div>\n",
              "<style scoped>\n",
              "    .dataframe tbody tr th:only-of-type {\n",
              "        vertical-align: middle;\n",
              "    }\n",
              "\n",
              "    .dataframe tbody tr th {\n",
              "        vertical-align: top;\n",
              "    }\n",
              "\n",
              "    .dataframe thead th {\n",
              "        text-align: right;\n",
              "    }\n",
              "</style>\n",
              "<table border=\"1\" class=\"dataframe\">\n",
              "  <thead>\n",
              "    <tr style=\"text-align: right;\">\n",
              "      <th></th>\n",
              "      <th>mpg</th>\n",
              "      <th>cylinders</th>\n",
              "      <th>displacement</th>\n",
              "      <th>horsepower</th>\n",
              "      <th>weight</th>\n",
              "      <th>acceleration</th>\n",
              "      <th>year</th>\n",
              "      <th>origin</th>\n",
              "    </tr>\n",
              "  </thead>\n",
              "  <tbody>\n",
              "    <tr>\n",
              "      <th>count</th>\n",
              "      <td>392.000000</td>\n",
              "      <td>392.000000</td>\n",
              "      <td>392.000000</td>\n",
              "      <td>392.000000</td>\n",
              "      <td>392.000000</td>\n",
              "      <td>391.000000</td>\n",
              "      <td>390.000000</td>\n",
              "      <td>392.000000</td>\n",
              "    </tr>\n",
              "    <tr>\n",
              "      <th>mean</th>\n",
              "      <td>23.445918</td>\n",
              "      <td>5.471939</td>\n",
              "      <td>194.411990</td>\n",
              "      <td>104.469388</td>\n",
              "      <td>2977.584184</td>\n",
              "      <td>15.554220</td>\n",
              "      <td>76.010256</td>\n",
              "      <td>1.576531</td>\n",
              "    </tr>\n",
              "    <tr>\n",
              "      <th>std</th>\n",
              "      <td>7.805007</td>\n",
              "      <td>1.705783</td>\n",
              "      <td>104.644004</td>\n",
              "      <td>38.491160</td>\n",
              "      <td>849.402560</td>\n",
              "      <td>2.750548</td>\n",
              "      <td>3.668093</td>\n",
              "      <td>0.805518</td>\n",
              "    </tr>\n",
              "    <tr>\n",
              "      <th>min</th>\n",
              "      <td>9.000000</td>\n",
              "      <td>3.000000</td>\n",
              "      <td>68.000000</td>\n",
              "      <td>46.000000</td>\n",
              "      <td>1613.000000</td>\n",
              "      <td>8.000000</td>\n",
              "      <td>70.000000</td>\n",
              "      <td>1.000000</td>\n",
              "    </tr>\n",
              "    <tr>\n",
              "      <th>25%</th>\n",
              "      <td>17.000000</td>\n",
              "      <td>4.000000</td>\n",
              "      <td>105.000000</td>\n",
              "      <td>75.000000</td>\n",
              "      <td>2225.250000</td>\n",
              "      <td>13.800000</td>\n",
              "      <td>73.000000</td>\n",
              "      <td>1.000000</td>\n",
              "    </tr>\n",
              "    <tr>\n",
              "      <th>50%</th>\n",
              "      <td>22.750000</td>\n",
              "      <td>4.000000</td>\n",
              "      <td>151.000000</td>\n",
              "      <td>93.500000</td>\n",
              "      <td>2803.500000</td>\n",
              "      <td>15.500000</td>\n",
              "      <td>76.000000</td>\n",
              "      <td>1.000000</td>\n",
              "    </tr>\n",
              "    <tr>\n",
              "      <th>75%</th>\n",
              "      <td>29.000000</td>\n",
              "      <td>8.000000</td>\n",
              "      <td>275.750000</td>\n",
              "      <td>126.000000</td>\n",
              "      <td>3614.750000</td>\n",
              "      <td>17.050000</td>\n",
              "      <td>79.000000</td>\n",
              "      <td>2.000000</td>\n",
              "    </tr>\n",
              "    <tr>\n",
              "      <th>max</th>\n",
              "      <td>46.600000</td>\n",
              "      <td>8.000000</td>\n",
              "      <td>455.000000</td>\n",
              "      <td>230.000000</td>\n",
              "      <td>5140.000000</td>\n",
              "      <td>24.800000</td>\n",
              "      <td>82.000000</td>\n",
              "      <td>3.000000</td>\n",
              "    </tr>\n",
              "  </tbody>\n",
              "</table>\n",
              "</div>\n",
              "      <button class=\"colab-df-convert\" onclick=\"convertToInteractive('df-478c1c8f-fe2a-4819-a133-78607eea73b9')\"\n",
              "              title=\"Convert this dataframe to an interactive table.\"\n",
              "              style=\"display:none;\">\n",
              "        \n",
              "  <svg xmlns=\"http://www.w3.org/2000/svg\" height=\"24px\"viewBox=\"0 0 24 24\"\n",
              "       width=\"24px\">\n",
              "    <path d=\"M0 0h24v24H0V0z\" fill=\"none\"/>\n",
              "    <path d=\"M18.56 5.44l.94 2.06.94-2.06 2.06-.94-2.06-.94-.94-2.06-.94 2.06-2.06.94zm-11 1L8.5 8.5l.94-2.06 2.06-.94-2.06-.94L8.5 2.5l-.94 2.06-2.06.94zm10 10l.94 2.06.94-2.06 2.06-.94-2.06-.94-.94-2.06-.94 2.06-2.06.94z\"/><path d=\"M17.41 7.96l-1.37-1.37c-.4-.4-.92-.59-1.43-.59-.52 0-1.04.2-1.43.59L10.3 9.45l-7.72 7.72c-.78.78-.78 2.05 0 2.83L4 21.41c.39.39.9.59 1.41.59.51 0 1.02-.2 1.41-.59l7.78-7.78 2.81-2.81c.8-.78.8-2.07 0-2.86zM5.41 20L4 18.59l7.72-7.72 1.47 1.35L5.41 20z\"/>\n",
              "  </svg>\n",
              "      </button>\n",
              "      \n",
              "  <style>\n",
              "    .colab-df-container {\n",
              "      display:flex;\n",
              "      flex-wrap:wrap;\n",
              "      gap: 12px;\n",
              "    }\n",
              "\n",
              "    .colab-df-convert {\n",
              "      background-color: #E8F0FE;\n",
              "      border: none;\n",
              "      border-radius: 50%;\n",
              "      cursor: pointer;\n",
              "      display: none;\n",
              "      fill: #1967D2;\n",
              "      height: 32px;\n",
              "      padding: 0 0 0 0;\n",
              "      width: 32px;\n",
              "    }\n",
              "\n",
              "    .colab-df-convert:hover {\n",
              "      background-color: #E2EBFA;\n",
              "      box-shadow: 0px 1px 2px rgba(60, 64, 67, 0.3), 0px 1px 3px 1px rgba(60, 64, 67, 0.15);\n",
              "      fill: #174EA6;\n",
              "    }\n",
              "\n",
              "    [theme=dark] .colab-df-convert {\n",
              "      background-color: #3B4455;\n",
              "      fill: #D2E3FC;\n",
              "    }\n",
              "\n",
              "    [theme=dark] .colab-df-convert:hover {\n",
              "      background-color: #434B5C;\n",
              "      box-shadow: 0px 1px 3px 1px rgba(0, 0, 0, 0.15);\n",
              "      filter: drop-shadow(0px 1px 2px rgba(0, 0, 0, 0.3));\n",
              "      fill: #FFFFFF;\n",
              "    }\n",
              "  </style>\n",
              "\n",
              "      <script>\n",
              "        const buttonEl =\n",
              "          document.querySelector('#df-478c1c8f-fe2a-4819-a133-78607eea73b9 button.colab-df-convert');\n",
              "        buttonEl.style.display =\n",
              "          google.colab.kernel.accessAllowed ? 'block' : 'none';\n",
              "\n",
              "        async function convertToInteractive(key) {\n",
              "          const element = document.querySelector('#df-478c1c8f-fe2a-4819-a133-78607eea73b9');\n",
              "          const dataTable =\n",
              "            await google.colab.kernel.invokeFunction('convertToInteractive',\n",
              "                                                     [key], {});\n",
              "          if (!dataTable) return;\n",
              "\n",
              "          const docLinkHtml = 'Like what you see? Visit the ' +\n",
              "            '<a target=\"_blank\" href=https://colab.research.google.com/notebooks/data_table.ipynb>data table notebook</a>'\n",
              "            + ' to learn more about interactive tables.';\n",
              "          element.innerHTML = '';\n",
              "          dataTable['output_type'] = 'display_data';\n",
              "          await google.colab.output.renderOutput(dataTable, element);\n",
              "          const docLink = document.createElement('div');\n",
              "          docLink.innerHTML = docLinkHtml;\n",
              "          element.appendChild(docLink);\n",
              "        }\n",
              "      </script>\n",
              "    </div>\n",
              "  </div>\n",
              "  "
            ]
          },
          "metadata": {},
          "execution_count": 28
        }
      ]
    },
    {
      "cell_type": "markdown",
      "source": [
        "### 2.b.\n",
        "<ul type = \"none\"> \n",
        "  <li>MPG</li>\n",
        "    <ul>\n",
        "      <li>Range = 9 to 46.6</li>\n",
        "      <li>Mean = 23.45</li>\n",
        "    </ul>\n",
        "  <li>Cylinders</li>\n",
        "    <ul>\n",
        "      <li>Range = 3 to 8</li>\n",
        "      <li>Mean = 5.47</li>\n",
        "    </ul>\n",
        "  <li>Displacement</li>\n",
        "    <ul>\n",
        "      <li>Range = 68 to 455</li>\n",
        "      <li>Mean = 194.41 </li>\n",
        "    </ul>\n",
        "  <li>Horsepower</li>\n",
        "    <ul>\n",
        "      <li>Range = 46 to 230</li>\n",
        "      <li>Mean = 104.47</li>\n",
        "    </ul>\n",
        "  <li>Weight</li>\n",
        "    <ul>\n",
        "      <li>Range = 1613 to 5140</li>\n",
        "      <li>Mean = 2977.58 </li>\n",
        "    </ul>\n",
        "  <li>Acceleration</li>\n",
        "    <ul>\n",
        "      <li>Range = 8 to 24.8</li>\n",
        "      <li>Mean = 15.55 </li>\n",
        "    </ul>\n",
        "  <li>Year</li>\n",
        "    <ul>\n",
        "      <li>Range = 70 to 82</li>\n",
        "      <li>Mean = 76.01 </li>\n",
        "    </ul>\n",
        "  <li>Origin</li>\n",
        "    <ul>\n",
        "      <li>Range = 1 to 3</li>\n",
        "      <li>Mean = 1.58</li>\n",
        "    </ul>\n",
        "</ul>"
      ],
      "metadata": {
        "id": "vxRkzC4ii4kt"
      }
    },
    {
      "cell_type": "markdown",
      "source": [
        "# **3) Explore Data Types**"
      ],
      "metadata": {
        "id": "UBRbOIGrcL98"
      }
    },
    {
      "cell_type": "code",
      "source": [
        "# 3.a.\n",
        "print(\"Data Types before Modification\")\n",
        "print(autoData.dtypes)\n",
        "\n",
        "# 3.b.\n",
        "autoData.cylinders = autoData.cylinders.astype('category').cat.codes\n",
        "\n",
        "# 3.c.\n",
        "autoData.origin = autoData.origin.astype('category')\n",
        "\n",
        "# 3.d.\n",
        "print(\"\\nData Types after Modification\")\n",
        "print(autoData.dtypes)"
      ],
      "metadata": {
        "id": "yr4xHFW-cRhQ",
        "colab": {
          "base_uri": "https://localhost:8080/",
          "height": 0
        },
        "outputId": "b23f5514-fcd8-444a-c460-5c36b1e6fc60"
      },
      "execution_count": 48,
      "outputs": [
        {
          "output_type": "stream",
          "name": "stdout",
          "text": [
            "Data Types before Modification\n",
            "cylinders           int8\n",
            "displacement     float64\n",
            "horsepower         int64\n",
            "weight             int64\n",
            "acceleration     float64\n",
            "year             float64\n",
            "origin          category\n",
            "mpg_high        category\n",
            "dtype: object\n",
            "\n",
            "Data Types after Modification\n",
            "cylinders           int8\n",
            "displacement     float64\n",
            "horsepower         int64\n",
            "weight             int64\n",
            "acceleration     float64\n",
            "year             float64\n",
            "origin          category\n",
            "mpg_high        category\n",
            "dtype: object\n"
          ]
        }
      ]
    },
    {
      "cell_type": "markdown",
      "source": [
        "# **4) Deal with NAs**"
      ],
      "metadata": {
        "id": "sKHRyXLgyMXr"
      }
    },
    {
      "cell_type": "code",
      "source": [
        "# 4.a.\n",
        "autoData = autoData.dropna()\n",
        "\n",
        "# 4.b.\n",
        "autoData.shape"
      ],
      "metadata": {
        "colab": {
          "base_uri": "https://localhost:8080/",
          "height": 0
        },
        "id": "n7WBh9s1yMpv",
        "outputId": "b555f58c-cbaf-429a-f41f-87dcd62cc2b6"
      },
      "execution_count": 30,
      "outputs": [
        {
          "output_type": "execute_result",
          "data": {
            "text/plain": [
              "(389, 9)"
            ]
          },
          "metadata": {},
          "execution_count": 30
        }
      ]
    },
    {
      "cell_type": "markdown",
      "source": [
        "# **5) Modify Columns**"
      ],
      "metadata": {
        "id": "V0DyEz6IyNLb"
      }
    },
    {
      "cell_type": "code",
      "source": [
        "# 5.a.\n",
        "avg = autoData['mpg'].mean()\n",
        "autoDataNew = autoData.loc[autoData.mpg > 1].copy()\n",
        "\n",
        "autoDataNew.loc[:, 'mpg_high'] = [0 if x < avg else 1 for x in autoDataNew['mpg']]\n",
        "autoData = autoDataNew \n",
        "autoData.mpg_high = autoData.mpg_high.astype('category')\n",
        "\n",
        "# 5.b.\n",
        "autoData = autoData.drop (columns = ['mpg', 'name'])\n",
        "\n",
        "# 5.c.\n",
        "print(autoData.head())\n",
        "\n",
        "print(autoDataNew.head())"
      ],
      "metadata": {
        "colab": {
          "base_uri": "https://localhost:8080/",
          "height": 0
        },
        "id": "jsTZhAFOyNZW",
        "outputId": "3b0bfd11-3290-4ef2-8dae-a20a03db7f7e"
      },
      "execution_count": 31,
      "outputs": [
        {
          "output_type": "stream",
          "name": "stdout",
          "text": [
            "   cylinders  displacement  horsepower  weight  acceleration  year origin  \\\n",
            "0          4         307.0         130    3504          12.0  70.0      1   \n",
            "1          4         350.0         165    3693          11.5  70.0      1   \n",
            "2          4         318.0         150    3436          11.0  70.0      1   \n",
            "3          4         304.0         150    3433          12.0  70.0      1   \n",
            "6          4         454.0         220    4354           9.0  70.0      1   \n",
            "\n",
            "  mpg_high  \n",
            "0        0  \n",
            "1        0  \n",
            "2        0  \n",
            "3        0  \n",
            "6        0  \n",
            "    mpg  cylinders  displacement  horsepower  weight  acceleration  year  \\\n",
            "0  18.0          4         307.0         130    3504          12.0  70.0   \n",
            "1  15.0          4         350.0         165    3693          11.5  70.0   \n",
            "2  18.0          4         318.0         150    3436          11.0  70.0   \n",
            "3  16.0          4         304.0         150    3433          12.0  70.0   \n",
            "6  14.0          4         454.0         220    4354           9.0  70.0   \n",
            "\n",
            "  origin                       name mpg_high  \n",
            "0      1  chevrolet chevelle malibu        0  \n",
            "1      1          buick skylark 320        0  \n",
            "2      1         plymouth satellite        0  \n",
            "3      1              amc rebel sst        0  \n",
            "6      1           chevrolet impala        0  \n"
          ]
        }
      ]
    },
    {
      "cell_type": "markdown",
      "source": [
        "# **6) Data Exploration (Graphs)**"
      ],
      "metadata": {
        "id": "ZidqUmpRyNrB"
      }
    },
    {
      "cell_type": "code",
      "source": [
        "# 6.a.\n",
        "sb.catplot(x = 'mpg_high', kind = 'count', data = autoData)\n",
        "\n",
        "# 6.b.\n",
        "sb.relplot(x = 'horsepower', y = 'weight', data = autoData, hue = autoData.mpg_high, style = autoData.mpg_high)\n",
        "\n",
        "# 6.c.\n",
        "sb.boxplot(x = 'mpg_high', y = 'weight', data = autoData)"
      ],
      "metadata": {
        "colab": {
          "base_uri": "https://localhost:8080/",
          "height": 739
        },
        "id": "BHIIQNMNyOCO",
        "outputId": "ea04c80f-4f4b-4b6a-8b2a-f2dcd2cecad7"
      },
      "execution_count": 32,
      "outputs": [
        {
          "output_type": "execute_result",
          "data": {
            "text/plain": [
              "<matplotlib.axes._subplots.AxesSubplot at 0x7f62930bd950>"
            ]
          },
          "metadata": {},
          "execution_count": 32
        },
        {
          "output_type": "display_data",
          "data": {
            "text/plain": [
              "<Figure size 360x360 with 1 Axes>"
            ],
            "image/png": "[encoded data removed]"
          },
          "metadata": {
            "needs_background": "light"
          }
        },
        {
          "output_type": "display_data",
          "data": {
            "text/plain": [
              "<Figure size 417.25x360 with 1 Axes>"
            ],
            "image/png": "[encoded data removed]"
          },
          "metadata": {
            "needs_background": "light"
          }
        }
      ]
    },
    {
      "cell_type": "markdown",
      "source": [
        "### 6.d.\n",
        "<ul type = \"none\"> \n",
        "  <li># 6.a.</li>\n",
        "    <ul>\n",
        "      <li>There are more samples of \"low_mpg\" than \"high_mpg\"; however, they are almost evenly split</li>\n",
        "    </ul>\n",
        "  <li># 6.b.</li>\n",
        "    <ul>\n",
        "      <li>A lighter car has less horsepower than any heavier car. Therefore, heavier cars are likely to comsume gas faster than lighter cars.</li>\n",
        "    </ul>\n",
        "  <li>#6.c.</li>\n",
        "    <ul>\n",
        "      <li>\"high_mpg seems to have several outliers while \"low_mpg\" doesn't have any.</li>\n",
        "    </ul>\n",
        "</ul>\n",
        "\n"
      ],
      "metadata": {
        "id": "orASOQvS_B5d"
      }
    },
    {
      "cell_type": "markdown",
      "source": [
        "# **7) Train/Test Split**"
      ],
      "metadata": {
        "id": "ZJ6ivX7AyWja"
      }
    },
    {
      "cell_type": "code",
      "source": [
        "# 7.a. & 7.b. & 7.c. & 7.d.\n",
        "from sklearn.model_selection import train_test_split \n",
        "\n",
        "X = autoData.loc[:, autoData.columns != 'mpg_high'] \n",
        "y = autoData.mpg_high\n",
        "\n",
        "# Split into 80/20 with seed = 1234\n",
        "xTrain, xTest, yTrain, yTest = train_test_split(X, y, test_size = 0.2, random_state = 1234)\n",
        "\n",
        "print('Train Size:', xTrain.shape) \n",
        "print('Test Size:', xTest.shape)\n"
      ],
      "metadata": {
        "id": "If7s1k5syWza",
        "colab": {
          "base_uri": "https://localhost:8080/",
          "height": 0
        },
        "outputId": "6e847fab-a546-4b3a-d12b-9502971b89e9"
      },
      "execution_count": 33,
      "outputs": [
        {
          "output_type": "stream",
          "name": "stdout",
          "text": [
            "Train Size: (311, 7)\n",
            "Test Size: (78, 7)\n"
          ]
        }
      ]
    },
    {
      "cell_type": "markdown",
      "source": [
        "# **8) Logistic Regression**"
      ],
      "metadata": {
        "id": "W7cPy07ayW_8"
      }
    },
    {
      "cell_type": "code",
      "source": [
        "# 8.a.\n",
        "from sklearn.linear_model import LogisticRegression \n",
        "from sklearn.metrics import classification_report\n",
        "\n",
        "clf = LogisticRegression(solver = 'lbfgs', max_iter = 300)\n",
        "clf.fit(xTrain, yTrain) \n",
        "clf.score (xTrain, yTrain)\n",
        "\n",
        "# 8.b.\n",
        "pred = clf.predict(xTest)\n",
        "\n",
        "# 8.c.\n",
        "# 0 = \"low_mpg\" \n",
        "# 1 = \"high_mpg\"\n",
        "\n",
        "print(classification_report(yTest, pred))"
      ],
      "metadata": {
        "id": "EiuBvKE6yXZA",
        "colab": {
          "base_uri": "https://localhost:8080/",
          "height": 0
        },
        "outputId": "033d3328-11d8-4472-b9dd-3be174b52c97"
      },
      "execution_count": 34,
      "outputs": [
        {
          "output_type": "stream",
          "name": "stdout",
          "text": [
            "              precision    recall  f1-score   support\n",
            "\n",
            "           0       1.00      0.84      0.91        50\n",
            "           1       0.78      1.00      0.88        28\n",
            "\n",
            "    accuracy                           0.90        78\n",
            "   macro avg       0.89      0.92      0.89        78\n",
            "weighted avg       0.92      0.90      0.90        78\n",
            "\n"
          ]
        }
      ]
    },
    {
      "cell_type": "markdown",
      "source": [
        "# **9) Decision Trees**"
      ],
      "metadata": {
        "id": "ztjf6TGEyX7u"
      }
    },
    {
      "cell_type": "code",
      "source": [
        "# 9.a.\n",
        "from sklearn.tree import DecisionTreeClassifier \n",
        "from sklearn.datasets import load_iris\n",
        "from sklearn import tree\n",
        "from matplotlib import pyplot as plt\n",
        "\n",
        "clf2 = DecisionTreeClassifier()\n",
        "clf2.fit(xTrain, yTrain) \n",
        "clf2.score(xTrain, yTrain)\n",
        "\n",
        "# 9.b.\n",
        "pred2 = clf2.predict(xTest)\n",
        "\n",
        "# 9.c.\n",
        "print(classification_report(yTest, pred))\n",
        "\n",
        "# 9.d.\n",
        "plt.figure(figsize = (10, 10))\n",
        "tree.plot_tree(clf2)\n",
        "plt.show()"
      ],
      "metadata": {
        "id": "syrQoMOqyYLm",
        "colab": {
          "base_uri": "https://localhost:8080/",
          "height": 731
        },
        "outputId": "bacf22a1-cf0f-4cb1-ff07-194af4383350"
      },
      "execution_count": 35,
      "outputs": [
        {
          "output_type": "stream",
          "name": "stdout",
          "text": [
            "              precision    recall  f1-score   support\n",
            "\n",
            "           0       1.00      0.84      0.91        50\n",
            "           1       0.78      1.00      0.88        28\n",
            "\n",
            "    accuracy                           0.90        78\n",
            "   macro avg       0.89      0.92      0.89        78\n",
            "weighted avg       0.92      0.90      0.90        78\n",
            "\n"
          ]
        },
        {
          "output_type": "display_data",
          "data": {
            "text/plain": [
              "<Figure size 720x720 with 1 Axes>"
            ],
            "image/png": "[encoded data removed]"
          },
          "metadata": {
            "needs_background": "light"
          }
        }
      ]
    },
    {
      "cell_type": "markdown",
      "source": [
        "# **10) Neural Network**"
      ],
      "metadata": {
        "id": "fBEOQHDHyfif"
      }
    },
    {
      "cell_type": "code",
      "source": [
        "# 10.a.\n",
        "from sklearn import preprocessing\n",
        "from sklearn.neural_network import MLPClassifier\n",
        "\n",
        "scaler = preprocessing.StandardScaler().fit(xTrain)\n",
        "\n",
        "xTrainScale = scaler.transform(xTrain)\n",
        "xTestScale = scaler.transform(xTest)\n",
        "\n",
        "clf3 = MLPClassifier (solver = 'lbfgs', hidden_layer_sizes = (6), max_iter = 1500, random_state = 1234)\n",
        "clf3.fit(xTrainScale, yTrain) \n",
        "clf3.score (xTrainScale, yTrain)\n",
        "\n",
        "# 10.b.\n",
        "pred3 = clf3.predict(xTestScale)\n",
        "\n",
        "print(classification_report(yTest, pred3))\n",
        "\n",
        "# 10.c.\n",
        "clf4 = MLPClassifier(solver = 'sgd', hidden_layer_sizes = (3,), max_iter = 1500, random_state = 1234)\n",
        "clf4.fit(xTrainScale, yTrain) \n",
        "clf4.score (xTrainScale, yTrain)\n",
        "\n",
        "# 10.d.\n",
        "pred4 = clf4.predict(xTestScale)\n",
        "\n",
        "print(classification_report(yTest, pred4))"
      ],
      "metadata": {
        "id": "xa29szwDygAJ",
        "colab": {
          "base_uri": "https://localhost:8080/",
          "height": 0
        },
        "outputId": "5247bd69-0a4a-4219-aa97-049522725eb9"
      },
      "execution_count": 46,
      "outputs": [
        {
          "output_type": "stream",
          "name": "stdout",
          "text": [
            "              precision    recall  f1-score   support\n",
            "\n",
            "           0       0.94      0.90      0.92        50\n",
            "           1       0.83      0.89      0.86        28\n",
            "\n",
            "    accuracy                           0.90        78\n",
            "   macro avg       0.89      0.90      0.89        78\n",
            "weighted avg       0.90      0.90      0.90        78\n",
            "\n",
            "              precision    recall  f1-score   support\n",
            "\n",
            "           0       0.93      0.80      0.86        50\n",
            "           1       0.71      0.89      0.79        28\n",
            "\n",
            "    accuracy                           0.83        78\n",
            "   macro avg       0.82      0.85      0.83        78\n",
            "weighted avg       0.85      0.83      0.84        78\n",
            "\n"
          ]
        }
      ]
    },
    {
      "cell_type": "markdown",
      "source": [
        "### 10.e.\n",
        "*   The first Neural Network performed better by about 7% compared to the second one. I used to same amount of interations for both networks, but the hidden layers are different for each of the networks. Logistic Regression and Decision Tree performed the same, which might mean there's a mistake somewhere. "
      ],
      "metadata": {
        "id": "Byto8iKG-oUf"
      }
    },
    {
      "cell_type": "markdown",
      "source": [
        "# **11) Analysis**\n",
        "\n",
        "<ul type = \"none\"> \n",
        "  <li># 11.a. Which algorithm performed better?</li>\n",
        "    <ul>\n",
        "      <li>I think the Neural Networks performed the best</li>\n",
        "    </ul>\n",
        "  <li># 11.b. Compare Accuracy, Recall, and Precision metrics by class </li>\n",
        "    <ul>\n",
        "      <li>Logistic Regression</li>\n",
        "      <ul>\n",
        "        <li>Accuracy = 90%</li>\n",
        "        <li>\"low_mpg\" Recall = 84%</li>\n",
        "        <li>\"high_mpg\" Recall = 100%</li>\n",
        "        <li>\"low_mpg\" Precision = 100%</li> \n",
        "        <li>\"high_mpg\" Precision = 78%</li>\n",
        "      </ul>\n",
        "      <li>Decision Tree</li>\n",
        "      <ul>\n",
        "        <li>Accuracy = 90%</li>\n",
        "        <li>\"low_mpg\" Recall = 84%</li>\n",
        "        <li>\"high_mpg\" Recall = 100%</li>\n",
        "        <li>\"low_mpg\" Precision = 100%</li> \n",
        "        <li>\"high_mpg\" Precision = 78%</li>\n",
        "      </ul>\n",
        "      <li>Neural Network #1</li>\n",
        "      <ul>\n",
        "        <li>Accuracy = 90%</li>\n",
        "        <li>\"low_mpg\" Recall = 90%</li>\n",
        "        <li>\"high_mpg\" Recall = 89%</li>\n",
        "        <li>\"low_mpg\" Precision = 94%</li> \n",
        "        <li>\"high_mpg\" Precision = 83%</li>\n",
        "      </ul>\n",
        "      <li>Neural Network #2</li>\n",
        "      <ul>\n",
        "        <li>Accuracy = 83%</li>\n",
        "        <li>\"low_mpg\" Recall = 80%</li>\n",
        "        <li>\"high_mpg\" Recall = 89%</li>\n",
        "        <li>\"low_mpg\" Precision = 93%</li> \n",
        "        <li>\"high_mpg\" Precision = 71%</li>\n",
        "      </ul>\n",
        "    </ul>\n",
        "  <li>#11.c. Give your analysis of why the better-performing algorithm might have outperformed\n",
        "the other</li>\n",
        "    <ul>\n",
        "      <li>I believe Neural Networks perform more efficiently when working with complex data, allowing the model to outperform Logistic Regression as well as Decision Trees.</li>\n",
        "    </ul>\n",
        "  <li>#11.d. Write a couple of sentences comparing your experiences using R versus sklearn. Feel free to express strong preferences.</li>\n",
        "      <ul>\n",
        "        <li>I definitely prefer R at this point, since I have worked with it more in the past and I am more comfortable with this language; however, after this assignment, I am ready to dive deeper into learning Machine Learning with Python as it is always useful to know more.</li>\n",
        "      </ul>\n",
        "</ul>\n",
        "\n"
      ],
      "metadata": {
        "id": "nINxg2LIygcx"
      }
    }
  ]
}